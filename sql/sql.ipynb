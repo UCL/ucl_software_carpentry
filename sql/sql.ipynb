{
 "metadata": {
  "name": "sql"
 },
 "nbformat": 3,
 "nbformat_minor": 0,
 "worksheets": [
  {
   "cells": [
    {
     "cell_type": "markdown",
     "metadata": {},
     "source": [
      "# Brief demonstration of SQLite Python API"
     ]
    },
    {
     "cell_type": "markdown",
     "metadata": {},
     "source": [
      "Import the package"
     ]
    },
    {
     "cell_type": "code",
     "collapsed": false,
     "input": [
      "import sqlite3"
     ],
     "language": "python",
     "metadata": {},
     "outputs": [],
     "prompt_number": 1
    },
    {
     "cell_type": "markdown",
     "metadata": {},
     "source": [
      "Then create a connection, giving it the name of the database file to create, and obtain a *cursor* object."
     ]
    },
    {
     "cell_type": "code",
     "collapsed": false,
     "input": [
      "conn = sqlite3.connect('/home/waugh/temp/sql/mammals.sqlite')\n",
      "curs = conn.cursor()"
     ],
     "language": "python",
     "metadata": {},
     "outputs": [],
     "prompt_number": 2
    },
    {
     "cell_type": "markdown",
     "metadata": {},
     "source": [
      "Now we can execute an SQL statement (without the semicolon) to create a table. Python multiline strings can be useful to make the structure of complex SQL statements clear."
     ]
    },
    {
     "cell_type": "code",
     "collapsed": false,
     "input": [
      "results = curs.execute('''\n",
      "    SELECT plots.plot_type, AVG(surveys.wgt)\n",
      "    FROM surveys\n",
      "      JOIN plots ON surveys.plot = plots.plot_id\n",
      "      JOIN species ON species.species_id = surveys.species\n",
      "    WHERE species.genus = 'Sigmodon'\n",
      "    GROUP BY plot_type\n",
      "''')"
     ],
     "language": "python",
     "metadata": {},
     "outputs": [],
     "prompt_number": 9
    },
    {
     "cell_type": "code",
     "collapsed": false,
     "input": [
      "wgt_sigmodon = results.fetchall()\n",
      "for record in wgt_sigmodon:\n",
      "    print record"
     ],
     "language": "python",
     "metadata": {},
     "outputs": [
      {
       "output_type": "stream",
       "stream": "stdout",
       "text": [
        "(u'Control', 67.83783783783784)\n",
        "(u'Long-term Krat Exclosure', 66.86915887850468)\n",
        "(u'Rodent Exclosure', 85.92307692307692)\n",
        "(u'Short-term Krat Exclosure', 59.074074074074076)\n",
        "(u'Spectab exclosure', 56.5)\n"
       ]
      }
     ],
     "prompt_number": 10
    },
    {
     "cell_type": "markdown",
     "metadata": {},
     "source": [
      "We can also create a new database and, for example, populate it from a URL:"
     ]
    },
    {
     "cell_type": "code",
     "collapsed": false,
     "input": [
      "import urllib\n",
      "import csv\n",
      "conn2 = sqlite3.connect('another.db')\n",
      "curs2 = conn2.cursor()\n",
      "in_csv = urllib.urlopen(\n",
      "'https://github.com/UCL/ucl_software_carpentry/raw/master/sql/data/mammal_species_table.csv')\n",
      "csv_reader = csv.reader(in_csv)\n",
      "csv_reader.next()  # skip header line\n",
      "for entry in csv_reader:\n",
      "    curs.execute('INSERT INTO species VALUES (?,?,?,?)', entry)"
     ],
     "language": "python",
     "metadata": {},
     "outputs": [],
     "prompt_number": 12
    },
    {
     "cell_type": "markdown",
     "metadata": {},
     "source": [
      "Read some data from a URL and insert it into the table."
     ]
    },
    {
     "cell_type": "markdown",
     "metadata": {},
     "source": [
      "Try a `SELECT` statement and print the results."
     ]
    },
    {
     "cell_type": "code",
     "collapsed": true,
     "input": [
      "genera = curs.execute('''\n",
      "SELECT DISTINCT genus, species FROM species\n",
      "''')\n",
      "for genus in genera:\n",
      "    entry = genera.fetchone()\n",
      "    if entry == None:\n",
      "        break\n",
      "    print entry[0] + \" \" + entry[1]\n"
     ],
     "language": "python",
     "metadata": {},
     "outputs": [
      {
       "output_type": "stream",
       "stream": "stdout",
       "text": [
        "Ammospermophilus harrisi\n",
        "Baiomys taylori\n",
        "Calamospiza melanocorys\n",
        "Crotalus scutalatus\n",
        "Cnemidophorus uniparens\n",
        "Dipodomys merriami\n",
        "Dipodomys spectabilis\n",
        "Eumeces obsoletus\n",
        "Neotoma albigula\n",
        "Onychomys leucogaster\n",
        "Onychomys sp.\n",
        "Pipilo chlorurus\n",
        "Perognathus flavus\n",
        "Perognathus hispidus\n",
        "Peromyscus leucopus\n",
        "Chaetodipus penicillatus\n",
        "Chaetodipus sp.\n",
        "Reithrodontomys megalotis\n",
        "Reithrodontomys sp.\n",
        "Spizella breweri\n",
        "Sigmodon fulviventer\n",
        "Sigmodon ochrognathus\n",
        "Spermophilus tereticaudus\n",
        "Sigmodon sp.\n",
        "Pipilo sp.\n",
        "Sparrow sp.\n",
        "Zonotrichia leucophrys\n",
        " \n"
       ]
      }
     ],
     "prompt_number": 13
    }
   ],
   "metadata": {}
  }
 ]
}